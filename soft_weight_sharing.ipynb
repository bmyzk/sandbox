{
 "cells": [
  {
   "cell_type": "markdown",
   "metadata": {},
   "source": [
    "Experimental Tensorflow implementation of a neural network with a soft weight sharing loss function introduced in PRML 5.5.7"
   ]
  },
  {
   "cell_type": "code",
   "execution_count": 1,
   "metadata": {},
   "outputs": [],
   "source": [
    "import math\n",
    "import numpy as np\n",
    "\n",
    "import tensorflow as tf\n",
    "from tensorflow import keras\n",
    "from tensorflow.keras import layers\n",
    "\n",
    "import matplotlib as mpl\n",
    "import matplotlib.pyplot as plt\n",
    "%matplotlib inline\n",
    "\n",
    "from jupyterthemes import jtplot\n",
    "jtplot.style()\n",
    "\n",
    "np.random.seed(0)\n",
    "tf.random.set_seed(0)"
   ]
  },
  {
   "cell_type": "code",
   "execution_count": 2,
   "metadata": {},
   "outputs": [
    {
     "data": {
      "text/plain": [
       "'2.2.0'"
      ]
     },
     "execution_count": 2,
     "metadata": {},
     "output_type": "execute_result"
    }
   ],
   "source": [
    "tf.__version__"
   ]
  },
  {
   "cell_type": "code",
   "execution_count": 3,
   "metadata": {},
   "outputs": [],
   "source": [
    "# Artificial Gound Truth Data\n",
    "inputs = keras.Input(shape=(2,))\n",
    "hidden = layers.Dense(3, use_bias=False, activation=\"relu\")(inputs)\n",
    "outputs = layers.Dense(1, use_bias=False)(hidden)\n",
    "model = keras.Model(inputs=inputs, outputs=outputs)\n",
    "model.layers[1].set_weights([np.array([[1,2,2], [2,1,-1]])])\n",
    "model.layers[2].set_weights([np.array([[-1], [1], [2]])])\n",
    "\n",
    "x1, x2 = np.meshgrid(np.linspace(-10, 10, 101), np.linspace(-10, 10, 101))\n",
    "X = np.array([x1.reshape(-1), x2.reshape(-1)]).T\n",
    "y = model.predict(X)"
   ]
  },
  {
   "cell_type": "code",
   "execution_count": 11,
   "metadata": {},
   "outputs": [
    {
     "data": {
      "text/plain": [
       "<matplotlib.colorbar.Colorbar at 0x6237b70f88>"
      ]
     },
     "execution_count": 11,
     "metadata": {},
     "output_type": "execute_result"
    },
    {
     "data": {
      "image/png": "[encoded data removed]",
      "text/plain": [
       "<Figure size 460.8x403.2 with 2 Axes>"
      ]
     },
     "metadata": {},
     "output_type": "display_data"
    }
   ],
   "source": [
    "plt.pcolormesh(X.T[0].reshape(101,101), X.T[1].reshape(101,101), y.reshape(101,101), shading='auto')\n",
    "plt.colorbar()"
   ]
  },
  {
   "cell_type": "code",
   "execution_count": null,
   "metadata": {},
   "outputs": [],
   "source": []
  },
  {
   "cell_type": "code",
   "execution_count": 5,
   "metadata": {},
   "outputs": [],
   "source": [
    "# Define a SoftWeightSharingDense with trainable loss function parameters\n",
    "# Use self.add_loss to add soft weight sharing regularization.\n",
    "# https://www.tensorflow.org/guide/keras/custom_layers_and_models\n",
    "\n",
    "class SoftWeightSharingDense(keras.layers.Layer):\n",
    "    def __init__(self, units, classes=3):\n",
    "        super().__init__()\n",
    "        self.units = units\n",
    "        self.classes = classes\n",
    "\n",
    "    def build(self, input_shape):\n",
    "        self.w = self.add_weight(\n",
    "            shape=(input_shape[-1], self.units),\n",
    "            initializer=\"random_normal\",\n",
    "            trainable=True,\n",
    "        )\n",
    "        self.eta = self.add_weight(\n",
    "            shape=(self.classes,),\n",
    "            initializer=\"zeros\",\n",
    "            trainable=True,\n",
    "        )\n",
    "        self.mu = self.add_weight(\n",
    "            shape=(self.classes,),\n",
    "            initializer=\"random_normal\",\n",
    "            trainable=True,\n",
    "        )\n",
    "        self.ln_sigma = self.add_weight(\n",
    "            shape=(self.classes,),\n",
    "            initializer=\"zeros\",\n",
    "            trainable=True,\n",
    "        )\n",
    "\n",
    "    def call(self, inputs):\n",
    "        likelihood = tf.map_fn(self.calc_likelihood, self.w)\n",
    "        losses = tf.map_fn(lambda x: -tf.math.log(x), likelihood)\n",
    "        self.add_loss(tf.reduce_sum(losses))\n",
    "        return keras.activations.relu(tf.matmul(inputs, self.w))\n",
    "\n",
    "    def norm(self, x, loc, scale):\n",
    "        n = 1 / tf.math.sqrt(2*math.pi*scale)\n",
    "        n = n * tf.math.exp(-tf.square(x-loc) / (2*scale))\n",
    "        return n\n",
    "    \n",
    "    def calc_likelihood(self, w):\n",
    "        pi = tf.math.exp(self.eta) / tf.math.reduce_sum(tf.math.exp(self.eta))\n",
    "        sigma = tf.math.exp(self.ln_sigma)\n",
    "        norm = self.norm(x=w, loc=self.mu, scale=sigma)\n",
    "        return tf.reduce_sum(tf.math.multiply(pi, norm))"
   ]
  },
  {
   "cell_type": "code",
   "execution_count": 6,
   "metadata": {},
   "outputs": [],
   "source": [
    "tf.random.set_seed(0)\n",
    "\n",
    "inputs = keras.Input(shape=(2,))\n",
    "hidden = SoftWeightSharingDense(units=3)(inputs)\n",
    "outputs = layers.Dense(1, use_bias=False)(hidden)\n",
    "model_sws = keras.Model(inputs=inputs, outputs=outputs)\n",
    "\n",
    "model_sws.compile(optimizer='rmsprop', loss=\"mse\")"
   ]
  },
  {
   "cell_type": "code",
   "execution_count": 7,
   "metadata": {},
   "outputs": [
    {
     "name": "stdout",
     "output_type": "stream",
     "text": [
      "<tf.Variable 'soft_weight_sharing_dense/Variable:0' shape=(2, 3) dtype=float32, numpy=\n",
      "array([[ 0.07555313,  0.0211461 , -0.02098475],\n",
      "       [-0.05180186, -0.06184139,  0.02351365]], dtype=float32)>\n",
      "<tf.Variable 'soft_weight_sharing_dense/Variable:0' shape=(3,) dtype=float32, numpy=array([0., 0., 0.], dtype=float32)>\n",
      "<tf.Variable 'soft_weight_sharing_dense/Variable:0' shape=(3,) dtype=float32, numpy=array([ 0.05334401,  0.00972746, -0.02654145], dtype=float32)>\n",
      "<tf.Variable 'soft_weight_sharing_dense/Variable:0' shape=(3,) dtype=float32, numpy=array([0., 0., 0.], dtype=float32)>\n"
     ]
    }
   ],
   "source": [
    "print(model_sws.layers[1].w)\n",
    "print(model_sws.layers[1].eta)\n",
    "print(model_sws.layers[1].mu)\n",
    "print(model_sws.layers[1].ln_sigma)"
   ]
  },
  {
   "cell_type": "code",
   "execution_count": 8,
   "metadata": {
    "scrolled": true
   },
   "outputs": [
    {
     "name": "stdout",
     "output_type": "stream",
     "text": [
      "Epoch 1/100\n",
      "319/319 [==============================] - 1s 3ms/step - loss: 446.7528\n",
      "Epoch 2/100\n",
      "319/319 [==============================] - 1s 4ms/step - loss: 359.3122\n",
      "Epoch 3/100\n",
      "319/319 [==============================] - 1s 3ms/step - loss: 258.7332\n",
      "Epoch 4/100\n",
      "319/319 [==============================] - 1s 3ms/step - loss: 156.3553\n",
      "Epoch 5/100\n",
      "319/319 [==============================] - 1s 3ms/step - loss: 74.6108\n",
      "Epoch 6/100\n",
      "319/319 [==============================] - 1s 4ms/step - loss: 23.2056\n",
      "Epoch 7/100\n",
      "319/319 [==============================] - 1s 4ms/step - loss: 4.1301\n",
      "Epoch 8/100\n",
      "319/319 [==============================] - 1s 3ms/step - loss: 1.9085\n",
      "Epoch 9/100\n",
      "319/319 [==============================] - 1s 3ms/step - loss: 1.4980\n",
      "Epoch 10/100\n",
      "319/319 [==============================] - 1s 3ms/step - loss: 1.1638\n",
      "Epoch 11/100\n",
      "319/319 [==============================] - 1s 3ms/step - loss: 0.8238\n",
      "Epoch 12/100\n",
      "319/319 [==============================] - 1s 3ms/step - loss: 0.4697\n",
      "Epoch 13/100\n",
      "319/319 [==============================] - 1s 3ms/step - loss: 0.1096\n",
      "Epoch 14/100\n",
      "319/319 [==============================] - 1s 3ms/step - loss: -0.2528\n",
      "Epoch 15/100\n",
      "319/319 [==============================] - 1s 3ms/step - loss: -0.6115\n",
      "Epoch 16/100\n",
      "319/319 [==============================] - 1s 3ms/step - loss: -0.9551\n",
      "Epoch 17/100\n",
      "319/319 [==============================] - 1s 3ms/step - loss: -1.2867\n",
      "Epoch 18/100\n",
      "319/319 [==============================] - 1s 3ms/step - loss: -1.6108\n",
      "Epoch 19/100\n",
      "319/319 [==============================] - 1s 3ms/step - loss: -1.9287\n",
      "Epoch 20/100\n",
      "319/319 [==============================] - 1s 3ms/step - loss: -2.2469\n",
      "Epoch 21/100\n",
      "319/319 [==============================] - 1s 3ms/step - loss: -2.5672\n",
      "Epoch 22/100\n",
      "319/319 [==============================] - 1s 3ms/step - loss: -2.8856\n",
      "Epoch 23/100\n",
      "319/319 [==============================] - 1s 3ms/step - loss: -3.2048\n",
      "Epoch 24/100\n",
      "319/319 [==============================] - 1s 4ms/step - loss: -3.5240\n",
      "Epoch 25/100\n",
      "319/319 [==============================] - 1s 4ms/step - loss: -3.8415\n",
      "Epoch 26/100\n",
      "319/319 [==============================] - 1s 4ms/step - loss: -4.1600\n",
      "Epoch 27/100\n",
      "319/319 [==============================] - 1s 3ms/step - loss: -4.4761\n",
      "Epoch 28/100\n",
      "319/319 [==============================] - 1s 4ms/step - loss: -4.7969\n",
      "Epoch 29/100\n",
      "319/319 [==============================] - 1s 3ms/step - loss: -5.1114\n",
      "Epoch 30/100\n",
      "319/319 [==============================] - 1s 3ms/step - loss: -5.4271\n",
      "Epoch 31/100\n",
      "319/319 [==============================] - 1s 3ms/step - loss: -5.7399\n",
      "Epoch 32/100\n",
      "319/319 [==============================] - 1s 3ms/step - loss: -6.0540\n",
      "Epoch 33/100\n",
      "319/319 [==============================] - 1s 3ms/step - loss: -6.3650\n",
      "Epoch 34/100\n",
      "319/319 [==============================] - 1s 3ms/step - loss: -6.6736\n",
      "Epoch 35/100\n",
      "319/319 [==============================] - 1s 4ms/step - loss: -6.9723\n",
      "Epoch 36/100\n",
      "319/319 [==============================] - 1s 4ms/step - loss: -7.2680\n",
      "Epoch 37/100\n",
      "319/319 [==============================] - 1s 3ms/step - loss: -7.5556\n",
      "Epoch 38/100\n",
      "319/319 [==============================] - 1s 3ms/step - loss: -7.8276\n",
      "Epoch 39/100\n",
      "319/319 [==============================] - 1s 3ms/step - loss: -8.0867\n",
      "Epoch 40/100\n",
      "319/319 [==============================] - 1s 3ms/step - loss: -8.3195\n",
      "Epoch 41/100\n",
      "319/319 [==============================] - 1s 3ms/step - loss: -8.5222\n",
      "Epoch 42/100\n",
      "319/319 [==============================] - 1s 3ms/step - loss: -8.6827\n",
      "Epoch 43/100\n",
      "319/319 [==============================] - 1s 3ms/step - loss: -8.7836\n",
      "Epoch 44/100\n",
      "319/319 [==============================] - 1s 3ms/step - loss: -8.8244\n",
      "Epoch 45/100\n",
      "319/319 [==============================] - 1s 4ms/step - loss: -8.8285\n",
      "Epoch 46/100\n",
      "319/319 [==============================] - 1s 3ms/step - loss: -8.8328\n",
      "Epoch 47/100\n",
      "319/319 [==============================] - 1s 3ms/step - loss: -8.8347\n",
      "Epoch 48/100\n",
      "319/319 [==============================] - 1s 3ms/step - loss: -8.8358\n",
      "Epoch 49/100\n",
      "319/319 [==============================] - 1s 3ms/step - loss: -8.8347\n",
      "Epoch 50/100\n",
      "319/319 [==============================] - 1s 3ms/step - loss: -8.8370\n",
      "Epoch 51/100\n",
      "319/319 [==============================] - 1s 3ms/step - loss: -8.8377\n",
      "Epoch 52/100\n",
      "319/319 [==============================] - 1s 3ms/step - loss: -8.8397\n",
      "Epoch 53/100\n",
      "319/319 [==============================] - 1s 3ms/step - loss: -8.8425\n",
      "Epoch 54/100\n",
      "319/319 [==============================] - 1s 3ms/step - loss: -8.8446\n",
      "Epoch 55/100\n",
      "319/319 [==============================] - 1s 3ms/step - loss: -8.8498\n",
      "Epoch 56/100\n",
      "319/319 [==============================] - 1s 3ms/step - loss: -8.8479\n",
      "Epoch 57/100\n",
      "319/319 [==============================] - 1s 4ms/step - loss: -8.8528\n",
      "Epoch 58/100\n",
      "319/319 [==============================] - 1s 5ms/step - loss: -8.8551\n",
      "Epoch 59/100\n",
      "319/319 [==============================] - 1s 4ms/step - loss: -8.8604\n",
      "Epoch 60/100\n",
      "319/319 [==============================] - 1s 3ms/step - loss: -8.8654\n",
      "Epoch 61/100\n",
      "319/319 [==============================] - 1s 3ms/step - loss: -8.8726\n",
      "Epoch 62/100\n",
      "319/319 [==============================] - 1s 4ms/step - loss: -8.8748\n",
      "Epoch 63/100\n",
      "319/319 [==============================] - 1s 4ms/step - loss: -8.8806\n",
      "Epoch 64/100\n",
      "319/319 [==============================] - 1s 3ms/step - loss: -8.8850\n",
      "Epoch 65/100\n",
      "319/319 [==============================] - 1s 3ms/step - loss: -8.8939\n",
      "Epoch 66/100\n",
      "319/319 [==============================] - 1s 3ms/step - loss: -8.9001\n",
      "Epoch 67/100\n",
      "319/319 [==============================] - 1s 4ms/step - loss: -8.9061\n",
      "Epoch 68/100\n",
      "319/319 [==============================] - 1s 4ms/step - loss: -8.9146\n",
      "Epoch 69/100\n",
      "319/319 [==============================] - 1s 4ms/step - loss: -8.9211\n",
      "Epoch 70/100\n",
      "319/319 [==============================] - 1s 4ms/step - loss: -8.9293\n",
      "Epoch 71/100\n",
      "319/319 [==============================] - 1s 4ms/step - loss: -8.9391\n",
      "Epoch 72/100\n",
      "319/319 [==============================] - 1s 4ms/step - loss: -8.9438\n",
      "Epoch 73/100\n",
      "319/319 [==============================] - 1s 4ms/step - loss: -8.9589\n",
      "Epoch 74/100\n",
      "319/319 [==============================] - 1s 4ms/step - loss: -8.9641\n",
      "Epoch 75/100\n",
      "319/319 [==============================] - 1s 4ms/step - loss: -8.9760\n",
      "Epoch 76/100\n",
      "319/319 [==============================] - 1s 4ms/step - loss: -8.9852\n",
      "Epoch 77/100\n",
      "319/319 [==============================] - 1s 4ms/step - loss: -8.9978\n",
      "Epoch 78/100\n",
      "319/319 [==============================] - 1s 4ms/step - loss: -9.0087\n",
      "Epoch 79/100\n",
      "319/319 [==============================] - 1s 4ms/step - loss: -9.0221\n",
      "Epoch 80/100\n",
      "319/319 [==============================] - 1s 4ms/step - loss: -9.0342\n",
      "Epoch 81/100\n",
      "319/319 [==============================] - 1s 4ms/step - loss: -9.0465\n",
      "Epoch 82/100\n",
      "319/319 [==============================] - 1s 4ms/step - loss: -9.0594\n",
      "Epoch 83/100\n",
      "319/319 [==============================] - 1s 4ms/step - loss: -9.0719\n",
      "Epoch 84/100\n",
      "319/319 [==============================] - 1s 4ms/step - loss: -9.0870\n",
      "Epoch 85/100\n",
      "319/319 [==============================] - 1s 4ms/step - loss: -9.0997\n",
      "Epoch 86/100\n",
      "319/319 [==============================] - 1s 4ms/step - loss: -9.1118\n",
      "Epoch 87/100\n",
      "319/319 [==============================] - 1s 3ms/step - loss: -9.1264\n",
      "Epoch 88/100\n",
      "319/319 [==============================] - 1s 3ms/step - loss: -9.1406\n",
      "Epoch 89/100\n",
      "319/319 [==============================] - 1s 3ms/step - loss: -9.1578\n",
      "Epoch 90/100\n",
      "319/319 [==============================] - 1s 4ms/step - loss: -9.1734\n",
      "Epoch 91/100\n",
      "319/319 [==============================] - 1s 4ms/step - loss: -9.1878\n",
      "Epoch 92/100\n",
      "319/319 [==============================] - 1s 3ms/step - loss: -9.2009\n",
      "Epoch 93/100\n",
      "319/319 [==============================] - 1s 3ms/step - loss: -9.2165\n",
      "Epoch 94/100\n",
      "319/319 [==============================] - 1s 4ms/step - loss: -9.2352\n",
      "Epoch 95/100\n",
      "319/319 [==============================] - 1s 4ms/step - loss: -9.2499\n",
      "Epoch 96/100\n",
      "319/319 [==============================] - 1s 3ms/step - loss: -9.2632\n",
      "Epoch 97/100\n",
      "319/319 [==============================] - 1s 3ms/step - loss: -9.2794\n",
      "Epoch 98/100\n"
     ]
    },
    {
     "name": "stdout",
     "output_type": "stream",
     "text": [
      "319/319 [==============================] - 1s 3ms/step - loss: -9.2967\n",
      "Epoch 99/100\n",
      "319/319 [==============================] - 1s 3ms/step - loss: -9.3144\n",
      "Epoch 100/100\n",
      "319/319 [==============================] - 1s 3ms/step - loss: -9.3299\n"
     ]
    },
    {
     "data": {
      "text/plain": [
       "<tensorflow.python.keras.callbacks.History at 0x6237b27f48>"
      ]
     },
     "execution_count": 8,
     "metadata": {},
     "output_type": "execute_result"
    }
   ],
   "source": [
    "model_sws.fit(X, y, epochs=100)"
   ]
  },
  {
   "cell_type": "code",
   "execution_count": 9,
   "metadata": {},
   "outputs": [
    {
     "name": "stdout",
     "output_type": "stream",
     "text": [
      "<tf.Variable 'soft_weight_sharing_dense/Variable:0' shape=(2, 3) dtype=float32, numpy=\n",
      "array([[ 0.03527641,  1.9788415 ,  0.30599687],\n",
      "       [ 0.03528836, -0.743268  ,  1.1061686 ]], dtype=float32)>\n",
      "<tf.Variable 'soft_weight_sharing_dense/Variable:0' shape=(3,) dtype=float32, numpy=array([  8.559981, -11.275358, -11.24028 ], dtype=float32)>\n",
      "<tf.Variable 'soft_weight_sharing_dense/Variable:0' shape=(3,) dtype=float32, numpy=array([ 0.0362157, -0.7411822,  0.3100754], dtype=float32)>\n",
      "<tf.Variable 'soft_weight_sharing_dense/Variable:0' shape=(3,) dtype=float32, numpy=array([-13.81516  ,  -6.332167 ,  -7.8367343], dtype=float32)>\n"
     ]
    }
   ],
   "source": [
    "print(model_sws.layers[1].w)\n",
    "print(model_sws.layers[1].eta)\n",
    "print(model_sws.layers[1].mu)\n",
    "print(model_sws.layers[1].ln_sigma)"
   ]
  },
  {
   "cell_type": "code",
   "execution_count": 10,
   "metadata": {},
   "outputs": [
    {
     "data": {
      "text/plain": [
       "<matplotlib.collections.PathCollection at 0x623d21eec8>"
      ]
     },
     "execution_count": 10,
     "metadata": {},
     "output_type": "execute_result"
    },
    {
     "data": {
      "image/png": "[encoded data removed]",
      "text/plain": [
       "<Figure size 460.8x403.2 with 1 Axes>"
      ]
     },
     "metadata": {},
     "output_type": "display_data"
    }
   ],
   "source": [
    "plt.scatter(model_sws.predict(X), y, s=1)"
   ]
  },
  {
   "cell_type": "code",
   "execution_count": null,
   "metadata": {},
   "outputs": [],
   "source": []
  }
 ],
 "metadata": {
  "kernelspec": {
   "display_name": "Python 3",
   "language": "python",
   "name": "python3"
  },
  "language_info": {
   "codemirror_mode": {
    "name": "ipython",
    "version": 3
   },
   "file_extension": ".py",
   "mimetype": "text/x-python",
   "name": "python",
   "nbconvert_exporter": "python",
   "pygments_lexer": "ipython3",
   "version": "3.7.6"
  }
 },
 "nbformat": 4,
 "nbformat_minor": 4
}
